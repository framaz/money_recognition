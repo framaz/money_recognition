{
 "cells": [
  {
   "cell_type": "code",
   "execution_count": 1,
   "metadata": {},
   "outputs": [],
   "source": [
    "import numpy as np\n",
    "import imgaug.augmenters as iaa\n",
    "import os\n",
    "from matplotlib import pyplot as plt\n",
    "from PIL import Image\n",
    "import scipy.misc\n",
    "from ipywidgets import IntProgress\n",
    "from IPython.display import display\n",
    "import time\n",
    "%config IPCompleter.greedy=True\n",
    "\n",
    "amount_per_pic = 100"
   ]
  },
  {
   "cell_type": "code",
   "execution_count": 2,
   "metadata": {},
   "outputs": [
    {
     "name": "stdout",
     "output_type": "stream",
     "text": [
      "{'rubles': [1000, 2000, 100, 200, 5000, 500], 'China': [1, 50, 10, 100, 5, 20], 'USA': [1, 2, 50, 10, 100, 5, 20], 'Euro': [50, 10, 100, 5, 200, 20, 500], 'Kazah': [1000, 10000, 2000, 200, 5000, 500]}\n",
      "330\n"
     ]
    }
   ],
   "source": [
    "PATH = 'non_augmented_data'\n",
    "currencies = ['rubles', 'China', 'USA', 'Euro', 'Kazah']\n",
    "values = {}\n",
    "num_pics = {}\n",
    "counter = 0\n",
    "for i in currencies:\n",
    "    everything = os.listdir(os.path.join(PATH, i))\n",
    "    values[i] = [int(str) for str in everything]\n",
    "    num_pics[i] = {}\n",
    "    for j in values[i]:\n",
    "        num_pics[i][j] = os.listdir(os.path.join(PATH, i, str(j)))\n",
    "   # num_pics[i] = {j : [k for k in range(1,11)] for j in values[i]}\n",
    "    for j in num_pics[i]:\n",
    "        counter += len(num_pics[i][j])\n",
    "test_image = 0\n",
    "print(values)\n",
    "num_pics\n",
    "print(counter)"
   ]
  },
  {
   "cell_type": "code",
   "execution_count": 3,
   "metadata": {},
   "outputs": [
    {
     "data": {
      "text/plain": [
       "{1000: ['10_non_aug.jpg',\n",
       "  '4_non_aug.jpg',\n",
       "  '1_non_aug.jpg',\n",
       "  '8_non_aug.jpg',\n",
       "  '3_non_aug.jpeg',\n",
       "  '3_non_aug.jpg',\n",
       "  '2_non_aug.jpg',\n",
       "  '6_non_aug.jpg',\n",
       "  '7_non_aug.jpg',\n",
       "  '9_non_aug.jpg',\n",
       "  '5_non_aug.jpg'],\n",
       " 2000: ['10_non_aug.jpg',\n",
       "  '4_non_aug.jpg',\n",
       "  '1_non_aug.jpg',\n",
       "  '8_non_aug.jpg',\n",
       "  '3_non_aug.jpg',\n",
       "  '2_non_aug.jpg',\n",
       "  '10_non_aug.jpeg',\n",
       "  '6_non_aug.jpg',\n",
       "  '7_non_aug.jpg',\n",
       "  '9_non_aug.jpg',\n",
       "  '5_non_aug.jpg'],\n",
       " 100: ['10_non_aug.jpg',\n",
       "  '4_non_aug.jpg',\n",
       "  '1_non_aug.jpg',\n",
       "  '8_non_aug.jpg',\n",
       "  '3_non_aug.jpg',\n",
       "  '2_non_aug.jpg',\n",
       "  '6_non_aug.jpg',\n",
       "  '7_non_aug.jpg',\n",
       "  '9_non_aug.jpg',\n",
       "  '5_non_aug.jpg'],\n",
       " 200: ['10_non_aug.jpg',\n",
       "  '4_non_aug.jpg',\n",
       "  '1_non_aug.jpg',\n",
       "  '8_non_aug.jpg',\n",
       "  '3_non_aug.jpg',\n",
       "  '2_non_aug.jpg',\n",
       "  '6_non_aug.jpg',\n",
       "  '7_non_aug.jpg',\n",
       "  '9_non_aug.jpg',\n",
       "  '5_non_aug.jpg',\n",
       "  '200_non_aug.jpg'],\n",
       " 5000: ['10_non_aug.jpg',\n",
       "  '4_non_aug.jpg',\n",
       "  '1_non_aug.jpg',\n",
       "  '8_non_aug.jpg',\n",
       "  '6_non_aug.jpeg',\n",
       "  '3_non_aug.jpg',\n",
       "  '2_non_aug.jpg',\n",
       "  '7.jpg',\n",
       "  '6_non_aug.jpg',\n",
       "  '7_non_aug.jpg',\n",
       "  '9_non_aug.jpg',\n",
       "  '5_non_aug.jpg'],\n",
       " 500: ['10_non_aug.jpg',\n",
       "  '4_non_aug.jpg',\n",
       "  '4_non_aug.jpeg',\n",
       "  '1_non_aug.jpg',\n",
       "  '8_non_aug.jpg',\n",
       "  '2_non_aug.jpeg',\n",
       "  '3_non_aug.jpeg',\n",
       "  '8.jpg',\n",
       "  '3_non_aug.jpg',\n",
       "  '1_non_aug.jpeg',\n",
       "  '2_non_aug.jpg',\n",
       "  '10_non_aug.jpeg',\n",
       "  '6_non_aug.jpg',\n",
       "  '7_non_aug.jpg',\n",
       "  '9_non_aug.jpg',\n",
       "  '5_non_aug.jpg']}"
      ]
     },
     "execution_count": 3,
     "metadata": {},
     "output_type": "execute_result"
    }
   ],
   "source": [
    "def augment_model_creation():\n",
    "    grayscale = iaa.Grayscale(alpha=1.0)\n",
    "    noise = iaa.Sequential([\n",
    "        iaa.Sometimes(then_list=iaa.AdditiveGaussianNoise(scale=(0, 0.1*255), per_channel=True)),\n",
    "        iaa.Sometimes(then_list=iaa.AdditivePoissonNoise(lam=(0, 20), per_channel=True)),\n",
    "        iaa.Sometimes(then_list=iaa.SaltAndPepper(p=(0,0.1)))\n",
    "    ])\n",
    "    blur = iaa.OneOf([\n",
    "        iaa.GaussianBlur(sigma=(0.0, 1.0)),\n",
    "        iaa.MotionBlur(k=3, angle=(-180, 0))\n",
    "    ])\n",
    "    affine = iaa.Affine(scale=(0.9,1.1), translate_percent=(-0.05,0.05), rotate=(-20.0,20.0))\n",
    "    perspecitve = iaa.PerspectiveTransform((0.0, 0.05))\n",
    "    augment = iaa.Sequential([noise, blur, affine, grayscale])\n",
    "    return augment\n",
    "images_to_out =[]\n",
    "num_pics['rubles']"
   ]
  },
  {
   "cell_type": "code",
   "execution_count": 4,
   "metadata": {
    "scrolled": false
   },
   "outputs": [
    {
     "data": {
      "application/vnd.jupyter.widget-view+json": {
       "model_id": "06b9d1214d98487680925037c61b2b98",
       "version_major": 2,
       "version_minor": 0
      },
      "text/plain": [
       "IntProgress(value=0, max=330)"
      ]
     },
     "metadata": {},
     "output_type": "display_data"
    },
    {
     "name": "stdout",
     "output_type": "stream",
     "text": [
      "1000\n",
      "2000\n",
      "100\n",
      "200\n",
      "5000\n",
      "500\n",
      "1\n",
      "50\n",
      "10\n",
      "100\n",
      "5\n",
      "20\n",
      "1\n",
      "2\n",
      "50\n",
      "10\n",
      "100\n",
      "5\n",
      "20\n",
      "50\n",
      "10\n",
      "100\n",
      "5\n",
      "200\n",
      "20\n",
      "500\n",
      "1000\n",
      "10000\n",
      "2000\n",
      "200\n",
      "5000\n",
      "500\n"
     ]
    }
   ],
   "source": [
    "PATH_augmented = \"resulting_data\"\n",
    "augment = augment_model_creation()\n",
    "f = IntProgress(min=0, max=counter)\n",
    "display(f)\n",
    "for currency in currencies:\n",
    "    for value_num in values[currency]:\n",
    "        print(value_num)\n",
    "        for pic in num_pics[currency][value_num]:\n",
    "            all_pics_path = os.path.join(PATH, currency, str(value_num))\n",
    "          #  print(f\"{currency} {value_num} {pic}\")\n",
    "            pic_path = os.path.join(all_pics_path, pic)\n",
    "            img = Image.open(pic_path)\n",
    "            img = img.resize((256,128),resample=Image.BOX)\n",
    "            img = np.array(img)\n",
    "            test_image = img\n",
    "            images = [img for i in range(amount_per_pic)]\n",
    "            images = augment.augment_images(images)\n",
    "            for i in range(amount_per_pic):\n",
    "                im = Image.fromarray(images[i])\n",
    "                save_path = os.path.join(PATH_augmented, currency, str(value_num))\n",
    "                im.save(os.path.join(save_path, f\"{pic}_{i}.jpg\"))\n",
    "            f.value += 1\n"
   ]
  },
  {
   "cell_type": "code",
   "execution_count": null,
   "metadata": {},
   "outputs": [],
   "source": []
  }
 ],
 "metadata": {
  "kernelspec": {
   "display_name": "Python 3",
   "language": "python",
   "name": "python3"
  },
  "language_info": {
   "codemirror_mode": {
    "name": "ipython",
    "version": 3
   },
   "file_extension": ".py",
   "mimetype": "text/x-python",
   "name": "python",
   "nbconvert_exporter": "python",
   "pygments_lexer": "ipython3",
   "version": "3.7.4"
  }
 },
 "nbformat": 4,
 "nbformat_minor": 2
}
